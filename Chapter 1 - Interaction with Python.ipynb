{
 "cells": [
  {
   "cell_type": "code",
   "execution_count": 1,
   "id": "5a717ab0-a585-4ab1-859f-8c171a29fdfa",
   "metadata": {},
   "outputs": [
    {
     "data": {
      "text/plain": [
       "(9+8j)"
      ]
     },
     "execution_count": 1,
     "metadata": {},
     "output_type": "execute_result"
    }
   ],
   "source": [
    "complex(9,8)"
   ]
  },
  {
   "cell_type": "code",
   "execution_count": 3,
   "id": "13e03fd6-8434-4156-ab2c-baf8db98e091",
   "metadata": {},
   "outputs": [
    {
     "data": {
      "text/plain": [
       "True"
      ]
     },
     "execution_count": 3,
     "metadata": {},
     "output_type": "execute_result"
    }
   ],
   "source": [
    "True"
   ]
  },
  {
   "cell_type": "code",
   "execution_count": 4,
   "id": "959d7eae-70f0-4e36-852d-75bedd11df2c",
   "metadata": {},
   "outputs": [
    {
     "data": {
      "text/plain": [
       "False"
      ]
     },
     "execution_count": 4,
     "metadata": {},
     "output_type": "execute_result"
    }
   ],
   "source": [
    "False"
   ]
  },
  {
   "cell_type": "code",
   "execution_count": 5,
   "id": "bfefcf6c-bb08-4b04-b19f-7ad6dfebf2d6",
   "metadata": {},
   "outputs": [
    {
     "name": "stdout",
     "output_type": "stream",
     "text": [
      "<class 'bool'>\n"
     ]
    }
   ],
   "source": [
    "x = False\n",
    "print(type(x))"
   ]
  },
  {
   "cell_type": "code",
   "execution_count": 7,
   "id": "9549846d-a3fa-4c4a-9ab4-31bc1a00d91e",
   "metadata": {},
   "outputs": [
    {
     "name": "stdout",
     "output_type": "stream",
     "text": [
      "<class 'complex'>\n"
     ]
    }
   ],
   "source": [
    "x=9+8j\n",
    "print(type(x))"
   ]
  },
  {
   "cell_type": "code",
   "execution_count": 9,
   "id": "9cc9322c-c91e-4654-b299-bcbd9c9bd030",
   "metadata": {},
   "outputs": [
    {
     "name": "stdout",
     "output_type": "stream",
     "text": [
      "The value of pi is:  3.141592653589793\n",
      "The value of tau is:  6.283185307179586\n",
      "The Euler's number is:  2.718281828459045\n"
     ]
    }
   ],
   "source": [
    "import math\n",
    "print (\"The value of pi is: \", math.pi)\n",
    "print (\"The value of tau is: \", math.tau)\n",
    "print (\"The Euler's number is: \", math.e)"
   ]
  },
  {
   "cell_type": "code",
   "execution_count": 12,
   "id": "fcf881d3-c665-430b-ac6c-1209917bc1e4",
   "metadata": {},
   "outputs": [
    {
     "ename": "NameError",
     "evalue": "name 'my_constants_file' is not defined",
     "output_type": "error",
     "traceback": [
      "\u001b[1;31m---------------------------------------------------------------------------\u001b[0m",
      "\u001b[1;31mNameError\u001b[0m                                 Traceback (most recent call last)",
      "Cell \u001b[1;32mIn[12], line 2\u001b[0m\n\u001b[0;32m      1\u001b[0m \u001b[38;5;66;03m# Name of file to store constants\u001b[39;00m\n\u001b[1;32m----> 2\u001b[0m my_constants_file\u001b[38;5;241m.\u001b[39mpy\n\u001b[0;32m      4\u001b[0m \u001b[38;5;66;03m# Defining my constants\u001b[39;00m\n\u001b[0;32m      5\u001b[0m graivity \u001b[38;5;241m=\u001b[39m \u001b[38;5;241m9.81\u001b[39m\n",
      "\u001b[1;31mNameError\u001b[0m: name 'my_constants_file' is not defined"
     ]
    }
   ],
   "source": [
    "# Name of file to store constants\n",
    "my_constants_file.py\n",
    "\n",
    "# Defining my constants\n",
    "graivity = 9.81\n",
    "avogadro = 6.022*10**22\n",
    "\n",
    "# Importing my module\n",
    "import my_constants_file\n",
    "\n",
    "# Printing my constants\n",
    "print(\"Avogadro's number is \", my_constants_file.avogadro)\n",
    "print(\"The gravity of the earth is\", my_constants_file.gravity)"
   ]
  },
  {
   "cell_type": "code",
   "execution_count": 15,
   "id": "f63bf5f8-ec23-4086-9fef-aa5d3fb26d76",
   "metadata": {},
   "outputs": [
    {
     "ename": "SyntaxError",
     "evalue": "invalid syntax. Maybe you meant '==' or ':=' instead of '='? (192536628.py, line 1)",
     "output_type": "error",
     "traceback": [
      "\u001b[1;36m  Cell \u001b[1;32mIn[15], line 1\u001b[1;36m\u001b[0m\n\u001b[1;33m    print(\"objects\",[sep = '', end = '\\n', file = sys.stdout, flush = false])\u001b[0m\n\u001b[1;37m                     ^\u001b[0m\n\u001b[1;31mSyntaxError\u001b[0m\u001b[1;31m:\u001b[0m invalid syntax. Maybe you meant '==' or ':=' instead of '='?\n"
     ]
    }
   ],
   "source": [
    "print(\"objects\",[sep = '', end = '\\n', file = sys.stdout, flush = false])"
   ]
  },
  {
   "cell_type": "code",
   "execution_count": 16,
   "id": "a09aa6a0-171d-4023-a3a4-eab5ebba8509",
   "metadata": {},
   "outputs": [
    {
     "name": "stdout",
     "output_type": "stream",
     "text": [
      "I am learning Python \n",
      " and I am enjoying it\n",
      "I am learning Python \t and I am enjoying it\n",
      "I\\’m learning Python and I\\’m enjoying it\n",
      "I am learning \\”Python\\” and I am enjoying it\n",
      "I am learning Python \\ I am enjoying it\n"
     ]
    }
   ],
   "source": [
    "print(\"I am learning Python \\n and I am enjoying it\")\n",
    "print(\"I am learning Python \\t and I am enjoying it\")\n",
    "print(\"I\\’m learning Python and I\\’m enjoying it\")\n",
    "print(\"I am learning \\”Python\\” and I am enjoying it\")\n",
    "print(\"I am learning Python \\\\ I am enjoying it\")"
   ]
  },
  {
   "cell_type": "code",
   "execution_count": 17,
   "id": "fe7794ca-fd8f-4fcf-b718-658ef0ca11b2",
   "metadata": {},
   "outputs": [
    {
     "name": "stdout",
     "output_type": "stream",
     "text": [
      "I am learning PythonI am enjoying it…"
     ]
    }
   ],
   "source": [
    "print(\"I am learning Python\", end = \"\")\n",
    "print(\"I am enjoying it\", end = \"…\")"
   ]
  },
  {
   "cell_type": "code",
   "execution_count": 23,
   "id": "7e7d6299-e155-4ca7-a179-cbc135a96456",
   "metadata": {},
   "outputs": [],
   "source": [
    "Ab9c = 1\n",
    "Abc = 1\n",
    "_A = 11\n",
    "__A1 = 11\n",
    "__A__ = 1"
   ]
  },
  {
   "cell_type": "code",
   "execution_count": 24,
   "id": "8b965d31-d174-43a0-b916-e22c815a13b3",
   "metadata": {},
   "outputs": [
    {
     "ename": "SyntaxError",
     "evalue": "invalid syntax (3096459166.py, line 2)",
     "output_type": "error",
     "traceback": [
      "\u001b[1;36m  Cell \u001b[1;32mIn[24], line 2\u001b[1;36m\u001b[0m\n\u001b[1;33m    x y z = 100 200 300\u001b[0m\n\u001b[1;37m      ^\u001b[0m\n\u001b[1;31mSyntaxError\u001b[0m\u001b[1;31m:\u001b[0m invalid syntax\n"
     ]
    }
   ],
   "source": [
    "xyz=100,00,000\n",
    "x y z = 100 200 300\n",
    "x_y_z=100,00,000\n",
    "x,y,z=100,200,300"
   ]
  },
  {
   "cell_type": "code",
   "execution_count": 25,
   "id": "7f971419-b406-4aee-b03f-d67e6c1efe89",
   "metadata": {},
   "outputs": [
    {
     "name": "stdout",
     "output_type": "stream",
     "text": [
      "how- are -you\n"
     ]
    }
   ],
   "source": [
    "print(\"how-\",\"are\",\"-you\")"
   ]
  },
  {
   "cell_type": "code",
   "execution_count": 27,
   "id": "52ef7e28-90f2-4363-85da-cd4816b62f8d",
   "metadata": {},
   "outputs": [
    {
     "name": "stdout",
     "output_type": "stream",
     "text": [
      "how-are-you\n"
     ]
    }
   ],
   "source": [
    "print(\"how\",\"are\",\"you\",sep=\"-\")"
   ]
  },
  {
   "cell_type": "code",
   "execution_count": 28,
   "id": "db1d09aa-9353-4319-8dc8-52e0aadf512c",
   "metadata": {},
   "outputs": [
    {
     "name": "stdout",
     "output_type": "stream",
     "text": [
      "how-are-you\n"
     ]
    }
   ],
   "source": [
    "print(\"how\"+\"-\"+\"are\"+\"-\"+\"you\")"
   ]
  },
  {
   "cell_type": "code",
   "execution_count": 29,
   "id": "babcd5ac-ea88-4481-8852-9c78fdf6bd8a",
   "metadata": {},
   "outputs": [
    {
     "data": {
      "text/plain": [
       "(5+6j)"
      ]
     },
     "execution_count": 29,
     "metadata": {},
     "output_type": "execute_result"
    }
   ],
   "source": [
    "5+6J"
   ]
  },
  {
   "cell_type": "code",
   "execution_count": null,
   "id": "9976d950-b0d2-4b95-aabc-4ac7f6558767",
   "metadata": {},
   "outputs": [],
   "source": []
  }
 ],
 "metadata": {
  "kernelspec": {
   "display_name": "Python 3 (ipykernel)",
   "language": "python",
   "name": "python3"
  },
  "language_info": {
   "codemirror_mode": {
    "name": "ipython",
    "version": 3
   },
   "file_extension": ".py",
   "mimetype": "text/x-python",
   "name": "python",
   "nbconvert_exporter": "python",
   "pygments_lexer": "ipython3",
   "version": "3.11.7"
  }
 },
 "nbformat": 4,
 "nbformat_minor": 5
}
